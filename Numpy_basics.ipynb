{
 "cells": [
  {
   "cell_type": "code",
   "execution_count": 2,
   "metadata": {},
   "outputs": [],
   "source": [
    "import numpy as np"
   ]
  },
  {
   "cell_type": "markdown",
   "metadata": {},
   "source": [
    "THE BASICS"
   ]
  },
  {
   "cell_type": "code",
   "execution_count": null,
   "metadata": {},
   "outputs": [],
   "source": [
    "a = np.array([1, 2, 3])\n",
    "print(a)"
   ]
  },
  {
   "cell_type": "code",
   "execution_count": null,
   "metadata": {},
   "outputs": [],
   "source": [
    "\n",
    "b = np.array([[9, 2, 3], [1, 2, 3], [4, 5, 6]])\n",
    "print(b)"
   ]
  },
  {
   "cell_type": "code",
   "execution_count": null,
   "metadata": {},
   "outputs": [],
   "source": [
    "# Finding the dimension of a numpy array\n",
    "print (f\"Dimension of array 'a' is {a.ndim}\")\n",
    "print (f\"Dimension of array 'b' is {b.ndim}\")\n",
    "\n",
    "# If we want in more detail, the number of rows and columns :-\n",
    "\n",
    "print (f\"Dimension of array 'a' is {a.shape}\")\n",
    "print (f\"Dimension of array 'b' is {b.shape}\")\n",
    "\n",
    "# OUTPUT :-\n",
    "# Dimension of array 'a' is 1\n",
    "# Dimension of array 'b' is 2\n",
    "# Dimension of array 'a' is (3,)\n",
    "# Dimension of array 'b' is (3, 3)\n",
    "\n"
   ]
  },
  {
   "cell_type": "code",
   "execution_count": 24,
   "metadata": {},
   "outputs": [
    {
     "name": "stdout",
     "output_type": "stream",
     "text": [
      "The element in b_21 is 5 . Note that the indexing starts as [0, 0]\n"
     ]
    },
    {
     "data": {
      "text/plain": [
       "array([2, 2, 5])"
      ]
     },
     "execution_count": 24,
     "metadata": {},
     "output_type": "execute_result"
    }
   ],
   "source": [
    "# To access the ij'th element of a numpy array, we use the notation :- a[i, j]\n",
    "\n",
    "print(f\"The element in b_21 is {b[2, 1]} \"+ \". Note that the indexing starts as [0, 0]\")\n",
    "\n",
    "# To access a specific row, we use a[rows, columns]:- \n",
    "#b[ 0:2 , 0:1 ]\n",
    "#b[ : , 2: ]\n",
    "b[ : , 1 ]\n",
    "\n"
   ]
  },
  {
   "cell_type": "markdown",
   "metadata": {},
   "source": [
    "Initializing Different Types of Arrays"
   ]
  },
  {
   "cell_type": "code",
   "execution_count": 27,
   "metadata": {},
   "outputs": [
    {
     "name": "stdout",
     "output_type": "stream",
     "text": [
      "[0. 0. 0. 0. 0.]\n",
      "[[0. 0. 0.]\n",
      " [0. 0. 0.]]\n",
      "[[[0. 0. 0.]\n",
      "  [0. 0. 0.]\n",
      "  [0. 0. 0.]]\n",
      "\n",
      " [[0. 0. 0.]\n",
      "  [0. 0. 0.]\n",
      "  [0. 0. 0.]]]\n"
     ]
    }
   ],
   "source": [
    "# All 0's / 1's matrix\n",
    "c0 = np.zeros(5) \n",
    "c1 = np.ones(5)\n",
    "print(c0)\n",
    "\n",
    "d0 = np.zeros((2,3))\n",
    "d1 = np.ones((2,3))\n",
    "print(d0)\n",
    "\n",
    "# Initializing a 3D array\n",
    "e0 = np.zeros((2, 3, 3))\n",
    "e1 = np.ones((2, 3, 3))\n",
    "print(e0)"
   ]
  },
  {
   "cell_type": "code",
   "execution_count": null,
   "metadata": {},
   "outputs": [],
   "source": [
    "# Initializing with another number , say x = 99\n",
    "\n",
    "# Use np.full((shape), x)\n",
    "\n",
    "f = np.full((2, 3), 99)\n",
    "\n",
    "# Initializing an array with shape similar to an already initialized array (a), but with different value \n",
    "\n",
    "# Use np.full_like(a, x)\n",
    "\n",
    "g = np.full_like(a, 4)\n",
    "\n",
    "# OR :-\n",
    "\n",
    "h = np.full(a.shape, 4)"
   ]
  },
  {
   "cell_type": "code",
   "execution_count": 31,
   "metadata": {},
   "outputs": [
    {
     "data": {
      "text/plain": [
       "array([[4, 3, 3],\n",
       "       [3, 4, 1],\n",
       "       [4, 3, 4]])"
      ]
     },
     "execution_count": 31,
     "metadata": {},
     "output_type": "execute_result"
    }
   ],
   "source": [
    "# Initializing with random numbers between 0 and 1\n",
    "\n",
    "np.random.rand(4, 2)\n",
    "\n",
    "# Initializing an array with shape similar to an already initialized array (a), but with different value \n",
    "\n",
    "np.random.random_sample(a.shape)\n",
    "\n",
    "# Random integer values between x = -1 and y = 5 (not including)\n",
    "\n",
    "np.random.randint(-1, 5, size = (3, 3))\n"
   ]
  },
  {
   "cell_type": "code",
   "execution_count": 32,
   "metadata": {},
   "outputs": [
    {
     "data": {
      "text/plain": [
       "array([[1., 0., 0., 0., 0.],\n",
       "       [0., 1., 0., 0., 0.],\n",
       "       [0., 0., 1., 0., 0.],\n",
       "       [0., 0., 0., 1., 0.],\n",
       "       [0., 0., 0., 0., 1.]])"
      ]
     },
     "execution_count": 32,
     "metadata": {},
     "output_type": "execute_result"
    }
   ],
   "source": [
    "# Initializing the identity matrix\n",
    "\n",
    "np.identity(5)"
   ]
  },
  {
   "cell_type": "code",
   "execution_count": null,
   "metadata": {},
   "outputs": [],
   "source": [
    "# If you have a matrix [1, 2, 3], and you want to stack maultiple copies of it on top of eachother to get \n",
    "# [[1, 2, 3]\n",
    "#   [1, 2, 3]\n",
    "#   [1, 2, 3]]\n",
    "\n",
    "arr = np.array([[1, 2, 3]])  # Ensuring it is a 2D array\n",
    "r1 = np.repeat(arr, 3, axis = 0)\n",
    "\n",
    "print(r1)"
   ]
  },
  {
   "cell_type": "markdown",
   "metadata": {},
   "source": [
    "The 0th axis in a 2D array refers to the axis that runs along the rows, and operations along this axis typically aggregate or transform data column-wise."
   ]
  },
  {
   "cell_type": "code",
   "execution_count": 44,
   "metadata": {},
   "outputs": [
    {
     "name": "stdout",
     "output_type": "stream",
     "text": [
      "[[1. 1. 1. 1. 1.]\n",
      " [1. 0. 0. 0. 1.]\n",
      " [1. 0. 9. 0. 1.]\n",
      " [1. 0. 0. 0. 1.]\n",
      " [1. 1. 1. 1. 1.]]\n"
     ]
    }
   ],
   "source": [
    "# Exercise :-\n",
    "x = np.ones((5, 5))\n",
    "x[1:4, 1:4] = 0\n",
    "x[2, 2] = 9\n",
    "print(x)"
   ]
  },
  {
   "cell_type": "code",
   "execution_count": 46,
   "metadata": {},
   "outputs": [
    {
     "name": "stdout",
     "output_type": "stream",
     "text": [
      "[100   2   3]\n",
      "[100   2   3]\n",
      "[1 2 3]\n",
      "[100   2   3]\n"
     ]
    }
   ],
   "source": [
    "# We need to be careful when copying arrays :-\n",
    "\n",
    "a = np.array([1, 2, 3])\n",
    "b = a\n",
    "b[0] = 100\n",
    "print(a)\n",
    "print(b)\n",
    "\n",
    "# Now only b's element should become 100\n",
    "# But turns out even a's element gets changed to 100, because in numpy both 'a' and the 'b' variable's point to the same array \n",
    "\n",
    "a = np.array([1, 2, 3])\n",
    "b = a.copy()\n",
    "# Now we are safe, 'a' remains the same\n",
    "b[0] = 100\n",
    "print(a)\n",
    "print(b)"
   ]
  },
  {
   "cell_type": "markdown",
   "metadata": {},
   "source": [
    "MATH CAPABALITIES OF NUMPY"
   ]
  },
  {
   "cell_type": "code",
   "execution_count": 48,
   "metadata": {},
   "outputs": [
    {
     "name": "stdout",
     "output_type": "stream",
     "text": [
      "[3 4 5 6]\n",
      "[-1  0  1  2]\n",
      "[2 4 6 8]\n",
      "[0.5 1.  1.5 2. ]\n"
     ]
    }
   ],
   "source": [
    "# Element wise operations :-\n",
    "a = np.array([1, 2, 3, 4])\n",
    "b = np.array([1, 0, 1, 0])\n",
    "\n",
    "np.array([1, 2, 3, 4])\n",
    "print(f\"{a - 2}\")\n",
    "print(f\"{a * 2}\")\n",
    "print(f\"{a / 2}\")\n",
    "print(f\"{a ** 2}\")\n",
    "\n",
    "# Between 2 arrays :-\n",
    "\n",
    "print(f\"{a + b}\")\n",
    "\n",
    "# Taking trigonometric function on arrays :-\n",
    "print(f\"{np.sin(a)}\")\n",
    "print(f\"{np.cos(a)}\")\n"
   ]
  },
  {
   "cell_type": "markdown",
   "metadata": {},
   "source": [
    "LINEAR ALGEBRA"
   ]
  },
  {
   "cell_type": "code",
   "execution_count": 53,
   "metadata": {},
   "outputs": [
    {
     "name": "stdout",
     "output_type": "stream",
     "text": [
      "[[1 1 1]\n",
      " [1 1 1]]\n",
      "[[2 2]\n",
      " [2 2]\n",
      " [2 2]]\n",
      "[[6 6]\n",
      " [6 6]]\n",
      "1.0\n"
     ]
    }
   ],
   "source": [
    "a = np.full((2,3), 1)\n",
    "print(a)\n",
    "\n",
    "b = np.full((3,2), 2)\n",
    "print(b)\n",
    "\n",
    "# To mulitply the 2 matrices, a*b wont work as the sizes are different\n",
    "\n",
    "print(np.matmul(a, b))\n",
    "\n",
    "# To find the determinant of a matric, we use\n",
    "\n",
    "c = np.identity(3)\n",
    "print(np.linalg.det(c))"
   ]
  },
  {
   "cell_type": "code",
   "execution_count": null,
   "metadata": {},
   "outputs": [],
   "source": [
    "## Reference docs :- https://docs.scipy.org/doc/numpy/reference/routines/linalg.html\n",
    "\n",
    "# Determinant\n",
    "# Trace\n",
    "# Singular Value Decompostion\n",
    "# Eigen values\n",
    "# Matrix norm\n",
    "# Inverse\n",
    "# ..., etc"
   ]
  },
  {
   "cell_type": "markdown",
   "metadata": {},
   "source": [
    "STATISTICS"
   ]
  },
  {
   "cell_type": "code",
   "execution_count": 56,
   "metadata": {},
   "outputs": [
    {
     "data": {
      "text/plain": [
       "array([5, 7, 9])"
      ]
     },
     "execution_count": 56,
     "metadata": {},
     "output_type": "execute_result"
    }
   ],
   "source": [
    "stats = np.array([[1, 2, 3], \n",
    "                  [4, 5, 6]])\n",
    "\n",
    "np.min(stats)\n",
    "np.max(stats)\n",
    "\n",
    "np.min(stats, axis = 0)\n",
    "np.min(stats, axis = 1)\n",
    "\n",
    "np.sum(stats) # Sums up all the elements in the array\n",
    "np.sum(stats, axis = 0)\n"
   ]
  },
  {
   "cell_type": "markdown",
   "metadata": {},
   "source": [
    "REORGANIZING ARRAYS"
   ]
  },
  {
   "cell_type": "code",
   "execution_count": 59,
   "metadata": {},
   "outputs": [
    {
     "name": "stdout",
     "output_type": "stream",
     "text": [
      "[[1]\n",
      " [2]\n",
      " [3]\n",
      " [4]\n",
      " [5]\n",
      " [6]]\n",
      "[[1 2]\n",
      " [3 4]\n",
      " [5 6]]\n"
     ]
    }
   ],
   "source": [
    "# Reshaping an old array into a new size/shape with the same number of elements\n",
    "\n",
    "before = np.array([[1, 2, 3], [4, 5, 6]])\n",
    "\n",
    "after = before.reshape((6, 1))\n",
    "print(after)\n",
    "\n",
    "after = before.reshape((3, 2))\n",
    "print(after)"
   ]
  },
  {
   "cell_type": "code",
   "execution_count": 67,
   "metadata": {},
   "outputs": [
    {
     "data": {
      "text/plain": [
       "array([[1, 2, 3],\n",
       "       [4, 5, 6],\n",
       "       [7, 8, 9]])"
      ]
     },
     "execution_count": 67,
     "metadata": {},
     "output_type": "execute_result"
    }
   ],
   "source": [
    "# Vertically stacking vectors :- The dimension and number of COLOUMNS of each MATRIX should match\n",
    "v1 = np.array([1, 2, 3])\n",
    "v2 = np.array([4, 5, 6])\n",
    "v3 = np.array([7, 8, 9])\n",
    "\n",
    "np.stack([v1, v2, v3])\n",
    "\n",
    "before = np.array([[1, 2, 3], [4, 5, 6]])\n",
    "b1 = np.array([[7, 8, 9]])\n",
    "np.vstack((before,b1))"
   ]
  },
  {
   "cell_type": "code",
   "execution_count": 68,
   "metadata": {},
   "outputs": [
    {
     "data": {
      "text/plain": [
       "array([[1., 1., 1., 1., 0., 0.],\n",
       "       [1., 1., 1., 1., 0., 0.]])"
      ]
     },
     "execution_count": 68,
     "metadata": {},
     "output_type": "execute_result"
    }
   ],
   "source": [
    "# Horizontal stacking :- The dimesnion and number of ROWS in each matrix must match\n",
    "h1 = np.ones((2, 4))\n",
    "h2 = np.zeros((2, 2))\n",
    "\n",
    "np.hstack((h1, h2))\n"
   ]
  },
  {
   "cell_type": "markdown",
   "metadata": {},
   "source": [
    "### LOADING DATA FROM A FILE"
   ]
  },
  {
   "cell_type": "code",
   "execution_count": 74,
   "metadata": {},
   "outputs": [
    {
     "data": {
      "text/plain": [
       "array([[  1.,  13.,  21.,  11., 196.,  75.,   4.,   3.,  34.,   6.,   7.,\n",
       "          8.,   0.,   1.,   2.,   3.,   4.,   5.],\n",
       "       [  3.,  42.,  12.,  33., 766.,  75.,   4.,  55.,   6.,   4.,   3.,\n",
       "          4.,   5.,   6.,   7.,   0.,  11.,  12.],\n",
       "       [  1.,  22.,  33.,  11., 999.,  11.,   2.,   1.,  78.,   0.,   1.,\n",
       "          2.,   9.,   8.,   7.,   1.,  76.,  88.]])"
      ]
     },
     "execution_count": 74,
     "metadata": {},
     "output_type": "execute_result"
    }
   ],
   "source": [
    "# If the data in your txt file is formatted with new line breaks, then this will work\n",
    "\n",
    "file_data = np.genfromtxt('data.txt', delimiter= ',')\n",
    "file_data"
   ]
  },
  {
   "cell_type": "markdown",
   "metadata": {},
   "source": [
    "### BOOLEAN INDEXING AND ADVANCED INDEXING"
   ]
  },
  {
   "cell_type": "code",
   "execution_count": 81,
   "metadata": {},
   "outputs": [
    {
     "name": "stdout",
     "output_type": "stream",
     "text": [
      "[[False False False False  True  True False False False False False False\n",
      "  False False False False False False]\n",
      " [False False False False  True  True False  True False False False False\n",
      "  False False False False False False]\n",
      " [False False False False  True False False False  True False False False\n",
      "  False False False False  True  True]]\n",
      "[[False False False False False  True False False False False False False\n",
      "  False False False False False False]\n",
      " [False False False False False  True False  True False False False False\n",
      "  False False False False False False]\n",
      " [False False False False False False False False  True False False False\n",
      "  False False False False  True  True]]\n",
      "[ 1. 13. 21. 11.  4.  3. 34.  6.  7.  8.  0.  1.  2.  3.  4.  5.  3. 42.\n",
      " 12. 33.  4.  6.  4.  3.  4.  5.  6.  7.  0. 11. 12.  1. 22. 33. 11. 11.\n",
      "  2.  1.  0.  1.  2.  9.  8.  7.  1.]\n"
     ]
    },
    {
     "data": {
      "text/plain": [
       "array([False, False, False, False,  True, False, False, False, False,\n",
       "       False, False, False, False, False, False, False, False, False])"
      ]
     },
     "execution_count": 81,
     "metadata": {},
     "output_type": "execute_result"
    }
   ],
   "source": [
    "# Returns which all entries of the text file are greater than 50\n",
    "print(file_data > 50)\n",
    "\n",
    "print( ~ ((file_data > 50) & (file_data < 100)))\n",
    "\n",
    "print(file_data[file_data < 50])\n",
    "\n",
    "# Tells True for a row if there is anybody in that row that is > 50\n",
    "np.any(file_data > 50, axis = 0)\n",
    "\n",
    "# Tells True for a row if everybody in that row that is > 50\n",
    "np.all(file_data > 50, axis = 0)\n",
    "\n",
    "# We can do the same for columns as well, by just doing axis = 1\n"
   ]
  },
  {
   "cell_type": "code",
   "execution_count": 83,
   "metadata": {},
   "outputs": [
    {
     "data": {
      "text/plain": [
       "array(['b', 'b', 'd'], dtype='<U1')"
      ]
     },
     "execution_count": 83,
     "metadata": {},
     "output_type": "execute_result"
    }
   ],
   "source": [
    "# If you wanted the 2nd, 4th and 8th element in a numpy array, we can do\n",
    "\n",
    "a = np.array(['a', 'b', 'c', 'd', 'e', 'f', 'g', 'h'])\n",
    "a[[1, 3, 7]]\n",
    "\n",
    "# We can even ask the same element again and again\n",
    "a[[1, 1, 3]]"
   ]
  },
  {
   "cell_type": "markdown",
   "metadata": {},
   "source": [
    "### Check the exercise photo and try it on your own"
   ]
  }
 ],
 "metadata": {
  "kernelspec": {
   "display_name": "Python 3",
   "language": "python",
   "name": "python3"
  },
  "language_info": {
   "codemirror_mode": {
    "name": "ipython",
    "version": 3
   },
   "file_extension": ".py",
   "mimetype": "text/x-python",
   "name": "python",
   "nbconvert_exporter": "python",
   "pygments_lexer": "ipython3",
   "version": "3.12.3"
  }
 },
 "nbformat": 4,
 "nbformat_minor": 2
}
